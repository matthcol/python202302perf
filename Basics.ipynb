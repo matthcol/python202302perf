{
 "cells": [
  {
   "cell_type": "markdown",
   "id": "24bc558e-6fa7-41bc-bdb1-86a7d892bc98",
   "metadata": {},
   "source": [
    "# Python Basics"
   ]
  },
  {
   "cell_type": "markdown",
   "id": "57bebe9c-f996-4b3f-a7c6-c292bc3b3d3c",
   "metadata": {},
   "source": [
    "## 1. Introduction"
   ]
  },
  {
   "cell_type": "code",
   "execution_count": 1,
   "id": "97613781-bed3-4908-b1af-297a70b1453d",
   "metadata": {},
   "outputs": [
    {
     "data": {
      "text/plain": [
       "103.6"
      ]
     },
     "execution_count": 1,
     "metadata": {},
     "output_type": "execute_result"
    }
   ],
   "source": [
    "# sum of a list of floats\n",
    "prices = [ 12.2, 34.5, 56.9]\n",
    "total = sum(prices)\n",
    "total"
   ]
  },
  {
   "cell_type": "code",
   "execution_count": 2,
   "id": "9636badb-a781-46c3-9e31-664ae3782424",
   "metadata": {},
   "outputs": [],
   "source": [
    "# city as tuple\n",
    "ville_t = (\"Toulouse\", 470000, \"31000\")"
   ]
  },
  {
   "cell_type": "code",
   "execution_count": 3,
   "id": "2df8fcb4-9ba9-4413-9b6e-6605ce0c2b69",
   "metadata": {},
   "outputs": [
    {
     "name": "stdout",
     "output_type": "stream",
     "text": [
      "Toulouse 31000\n"
     ]
    }
   ],
   "source": [
    "name = ville_t[0]\n",
    "cp = ville_t[2]\n",
    "print(name, cp)"
   ]
  },
  {
   "cell_type": "code",
   "execution_count": 4,
   "id": "77677142-2c6d-41c1-9000-8383f5de407f",
   "metadata": {},
   "outputs": [
    {
     "name": "stdout",
     "output_type": "stream",
     "text": [
      "Toulouse 31000\n"
     ]
    }
   ],
   "source": [
    "# same thing with unpack\n",
    "name,_ , cp = ville_t\n",
    "print(name, cp)"
   ]
  },
  {
   "cell_type": "code",
   "execution_count": 5,
   "id": "e6e54ff3-7503-40b3-9677-cd9adaf6c195",
   "metadata": {},
   "outputs": [
    {
     "data": {
      "text/plain": [
       "{'name': 'Toulouse', 'pop': 470000, 'cp': '31000'}"
      ]
     },
     "execution_count": 5,
     "metadata": {},
     "output_type": "execute_result"
    }
   ],
   "source": [
    "# city as a dict\n",
    "ville_d = { \n",
    "    \"name\": \"Toulouse\",\n",
    "    \"pop\": 470000,\n",
    "    \"cp\": \"31000\"\n",
    "}\n",
    "ville_d"
   ]
  },
  {
   "cell_type": "code",
   "execution_count": 6,
   "id": "a6350442-12ee-4e9c-9027-14cf5b9399de",
   "metadata": {},
   "outputs": [
    {
     "name": "stdout",
     "output_type": "stream",
     "text": [
      "Toulouse 31000\n"
     ]
    }
   ],
   "source": [
    "print(ville_d['name'], ville_d['cp'])"
   ]
  },
  {
   "cell_type": "code",
   "execution_count": 7,
   "id": "6afb7263-5974-4650-816b-ff046c45315a",
   "metadata": {},
   "outputs": [
    {
     "name": "stdout",
     "output_type": "stream",
     "text": [
      "name Toulouse\n",
      "pop 470000\n",
      "cp 31000\n"
     ]
    }
   ],
   "source": [
    "# iteration on all couples (key, value)\n",
    "for k, v in ville_d.items():\n",
    "    print(k, v)"
   ]
  },
  {
   "cell_type": "markdown",
   "id": "61ad4dbb-92bc-4bb2-aed7-cf26eb54a6ba",
   "metadata": {},
   "source": [
    "## 2. Containers manipulation"
   ]
  },
  {
   "cell_type": "code",
   "execution_count": 8,
   "id": "f47b4d07-9da1-4782-b615-cb2da9882a6b",
   "metadata": {},
   "outputs": [],
   "source": [
    "cities_tuples = [\n",
    "    ('Pau', '64000', 77000),\n",
    "    ('Toulouse', '31000', 470000),\n",
    "    ('Bordeaux', '33000', 250000),\n",
    "    ('Bayonne', '64100', 49000),\n",
    "    ('Lée', '64320', 1200),\n",
    "]"
   ]
  }
 ],
 "metadata": {
  "kernelspec": {
   "display_name": "Python 3 (ipykernel)",
   "language": "python",
   "name": "python3"
  },
  "language_info": {
   "codemirror_mode": {
    "name": "ipython",
    "version": 3
   },
   "file_extension": ".py",
   "mimetype": "text/x-python",
   "name": "python",
   "nbconvert_exporter": "python",
   "pygments_lexer": "ipython3",
   "version": "3.9.12"
  }
 },
 "nbformat": 4,
 "nbformat_minor": 5
}

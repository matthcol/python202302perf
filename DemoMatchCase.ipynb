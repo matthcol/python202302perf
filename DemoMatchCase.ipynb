{
 "cells": [
  {
   "cell_type": "code",
   "execution_count": 1,
   "id": "9f9101b6-c57b-4f4e-bcbb-a3d527e13a98",
   "metadata": {},
   "outputs": [],
   "source": [
    "jour = \"Monday\""
   ]
  },
  {
   "cell_type": "code",
   "execution_count": 2,
   "id": "c7b0e59f-045d-4df6-86d6-f30c7eed28b3",
   "metadata": {},
   "outputs": [
    {
     "name": "stdout",
     "output_type": "stream",
     "text": [
      "Starting a new week is always difficult\n"
     ]
    }
   ],
   "source": [
    "match jour:\n",
    "    case \"Monday\":\n",
    "        print(\"Starting a new week is always difficult\")\n",
    "    case \"Tuesday\" | \"Wednesday\":\n",
    "        # TODO\n",
    "        pass\n",
    "    case \"Thursday\" | \"Friday\":\n",
    "        # TODO\n",
    "        pass\n",
    "    case _: # default case\n",
    "        # TODO\n",
    "        pass\n"
   ]
  }
 ],
 "metadata": {
  "kernelspec": {
   "display_name": "k311",
   "language": "python",
   "name": "k311"
  },
  "language_info": {
   "codemirror_mode": {
    "name": "ipython",
    "version": 3
   },
   "file_extension": ".py",
   "mimetype": "text/x-python",
   "name": "python",
   "nbconvert_exporter": "python",
   "pygments_lexer": "ipython3",
   "version": "3.11.0"
  }
 },
 "nbformat": 4,
 "nbformat_minor": 5
}

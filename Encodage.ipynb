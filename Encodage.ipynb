{
 "cells": [
  {
   "cell_type": "markdown",
   "id": "e9a9a74b-42c3-4e80-b9d0-9a5d1d36cecc",
   "metadata": {},
   "source": [
    "# Encodage des caractères\n",
    "- ASCII: 128 caractères (7 bits + 1 bit correcteur)\n",
    "- Jeux de caractères régionalisés: 1 octet = 1 caractère => 256 caractères\n",
    "    - latin 1 = ISO-8859-1: europe occidentale (avant €)\n",
    "    - latin 15 = ISO-8859-15: europe occidentale (post €)\n",
    "    - CP1252 ie ANSI (Microsoft) = europe occidentale (post €)\n",
    "    - latin 6 = ISO-8859-6: arabe\n",
    "- Unicode : tous les caractères, idéogrammes, emojis, ...\n",
    "    - Exemple: 東京, 🙂, 🇫🇷\n",
    "    - Encodages: **UTF-8**, UTF-16, UTF-32"
   ]
  },
  {
   "cell_type": "code",
   "execution_count": 4,
   "id": "6252583e-8f01-4aee-b50d-d75eb648d7a6",
   "metadata": {},
   "outputs": [
    {
     "name": "stdout",
     "output_type": "stream",
     "text": [
      "b'c\\xbdur'\n",
      "b'c\\x9cur'\n",
      "b'c\\xc5\\x93ur'\n"
     ]
    }
   ],
   "source": [
    "# UnicodeEncodeError: 'latin-1' codec can't encode character\n",
    "# 'cœur'.encode('ISO-8859-1')\n",
    "print('cœur'.encode('ISO-8859-15'))\n",
    "print('cœur'.encode('CP1252'))\n",
    "print('cœur'.encode('UTF-8'))"
   ]
  },
  {
   "cell_type": "code",
   "execution_count": 8,
   "id": "d223a89d-f710-4798-a86c-1e826ccf459c",
   "metadata": {},
   "outputs": [
    {
     "name": "stdout",
     "output_type": "stream",
     "text": [
      "b'\\xe2\\x82\\xac'\n",
      "â¬\n",
      "â‚¬\n",
      "ق،\n"
     ]
    }
   ],
   "source": [
    "# encodage binaire du caractère € en UTF-8\n",
    "codeEuroUtf8 = '€'.encode('UTF-8')\n",
    "print(codeEuroUtf8)\n",
    "# tentatuves de mauvais décodage\n",
    "print(codeEuroUtf8.decode('ISO-8859-15'))\n",
    "print(codeEuroUtf8.decode('CP1252'))\n",
    "print(codeEuroUtf8.decode('ISO-8859-6'))"
   ]
  },
  {
   "cell_type": "code",
   "execution_count": 14,
   "id": "ebdbba90-7adc-442f-9470-0ab1d632b9a1",
   "metadata": {},
   "outputs": [
    {
     "data": {
      "text/plain": [
       "<_io.TextIOWrapper name='data_text/fichierUTF-8.txt' mode='r' encoding='UTF-8'>"
      ]
     },
     "execution_count": 14,
     "metadata": {},
     "output_type": "execute_result"
    }
   ],
   "source": [
    "f = open('data_text/fichierUTF-8.txt', encoding='UTF-8')\n",
    "f"
   ]
  },
  {
   "cell_type": "code",
   "execution_count": 15,
   "id": "8b861bd9-26e2-4fa1-b84b-6a35929cb60f",
   "metadata": {},
   "outputs": [
    {
     "data": {
      "text/plain": [
       "['cœur à 1€\\n', '🙂']"
      ]
     },
     "execution_count": 15,
     "metadata": {},
     "output_type": "execute_result"
    }
   ],
   "source": [
    "# lire toutes les lignes du fichiers et les rassembler dans une liste\n",
    "# NB: un fichier ouvert est iterable\n",
    "list(f)"
   ]
  },
  {
   "cell_type": "code",
   "execution_count": 16,
   "id": "fa432c68-6f23-4226-8954-62afc9fad263",
   "metadata": {},
   "outputs": [],
   "source": [
    "# liberation de la ressource (fichier OS) et flush buffer (écriture)\n",
    "f.close() "
   ]
  },
  {
   "cell_type": "code",
   "execution_count": 21,
   "id": "4df9736f-209b-4b01-bbeb-2d23da47ac48",
   "metadata": {},
   "outputs": [
    {
     "name": "stdout",
     "output_type": "stream",
     "text": [
      "Inside With: Fichier fermé ? False\n",
      "After With: Fichier fermé ? True\n",
      "['cœur à 1€']\n"
     ]
    }
   ],
   "source": [
    "with open('data_text/fichierANSI.txt', encoding='CP1252') as f:\n",
    "    print('Inside With: Fichier fermé ?', f.closed)\n",
    "    data = list(f)\n",
    "# auto: f.close() ou tentative si jamais erreur\n",
    "print('After With: Fichier fermé ?', f.closed)\n",
    "print(data)\n",
    "    "
   ]
  },
  {
   "cell_type": "code",
   "execution_count": 28,
   "id": "4b80a6ba-2754-4576-8e20-da427a3a6dab",
   "metadata": {},
   "outputs": [
    {
     "name": "stdout",
     "output_type": "stream",
     "text": [
      "Inside With: Fichier fermé ? False\n",
      "Problème de décode Unicode en lisant le fichier: 'utf-8' codec can't decode byte 0x9c in position 1: invalid start byte\n",
      "After With: Fichier fermé ? True\n"
     ]
    }
   ],
   "source": [
    "try:\n",
    "    with open('data_text/fichierANSI.txt', encoding='UTF-8') as f:\n",
    "        print('Inside With: Fichier fermé ?', f.closed)\n",
    "        data = list(f)\n",
    "    # auto: f.close() ou tentative si jamais erreur\n",
    "    print('After With: Fichier fermé ?', f.closed)\n",
    "    print(data)\n",
    "except UnicodeDecodeError as ex:\n",
    "    print(\"Problème de décode Unicode en lisant le fichier:\", ex)\n",
    "    print('After With: Fichier fermé ?', f.closed)\n",
    "except:  # tout autre problème\n",
    "    print(\"Quelquechose s'est mal passé\")\n",
    "    print('After With: Fichier fermé ?', f.closed)"
   ]
  }
 ],
 "metadata": {
  "kernelspec": {
   "display_name": "Python 3 (ipykernel)",
   "language": "python",
   "name": "python3"
  },
  "language_info": {
   "codemirror_mode": {
    "name": "ipython",
    "version": 3
   },
   "file_extension": ".py",
   "mimetype": "text/x-python",
   "name": "python",
   "nbconvert_exporter": "python",
   "pygments_lexer": "ipython3",
   "version": "3.9.12"
  }
 },
 "nbformat": 4,
 "nbformat_minor": 5
}
